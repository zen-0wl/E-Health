{
 "cells": [
  {
   "cell_type": "code",
   "execution_count": 6,
   "metadata": {},
   "outputs": [],
   "source": [
    "import re\n",
    "import pickle\n",
    "import pandas as pd\n",
    "import pdfplumber\n",
    "import streamlit as st"
   ]
  },
  {
   "cell_type": "code",
   "execution_count": 7,
   "metadata": {},
   "outputs": [
    {
     "name": "stdout",
     "output_type": "stream",
     "text": [
      "Random Forest model loaded successfully!\n"
     ]
    }
   ],
   "source": [
    "with open(\"random_forest_model.pkl\", \"rb\") as f:\n",
    "    best_model = pickle.load(f)\n",
    "\n",
    "print(\"Random Forest model loaded successfully!\")"
   ]
  },
  {
   "cell_type": "markdown",
   "metadata": {},
   "source": [
    "<h5 style=\"color: SkyBlue;\"><b>Text Extraction</b></h5>"
   ]
  },
  {
   "cell_type": "code",
   "execution_count": 8,
   "metadata": {},
   "outputs": [
    {
     "name": "stdout",
     "output_type": "stream",
     "text": [
      "Binah.ai RESULT UNIT REFERENCE RANGE\n",
      "Vital Signs\n",
      "Heart Rate 64.1 bpm\n",
      "Breathing Rate 24.7 brpm\n",
      "PRQ 5.3\n",
      "Blood:\n",
      "Oxygen Saturation 81 %\n",
      "Blood Pressure 100.2/83.3 mmHg\n",
      "Baevsky Stress Index\n",
      "Stress Level Normal\n",
      "Stress Index 145.6\n",
      "Energy\n",
      "Recovery Ability (PNS Zone) Normal\n",
      "PNS Index -1\n",
      "Mean RRi 550.6 ms\n",
      "RMSSD 39.3 ms\n",
      "SD1 53.5 ms\n",
      "Stress Response\n",
      "SNS Index 0.8\n",
      "SD2 34.6 ms\n",
      "Stress Index 145.6\n",
      "Heart Rate 64.1 bpm\n",
      "Heart Rate Variability ms\n",
      "HRV SDNN 46.6 ms\n",
      "Mean RRI 550.6 ms\n",
      "RMSSD 39.3 ms\n",
      "SD1 53.5 ms\n",
      "SD2 34.6 ms\n",
      "LF/HR 0.679\n",
      "Blood Tests - Under Research\n",
      "Hemoglobin 0.4 g/dl\n",
      "Hemoglobin A1c 9.7 %\n"
     ]
    }
   ],
   "source": [
    "def extract_text_from_pdf(file_path):\n",
    "    with pdfplumber.open(file_path) as pdf:\n",
    "        text = \"\"\n",
    "        for page in pdf.pages:\n",
    "            text += page.extract_text()\n",
    "    return text\n",
    "\n",
    "file_path = \"Binah.ai Report - Anemia 1.pdf\"  \n",
    "extracted_text = extract_text_from_pdf(file_path)\n",
    "print(extracted_text)"
   ]
  }
 ],
 "metadata": {
  "kernelspec": {
   "display_name": ".venv",
   "language": "python",
   "name": "python3"
  },
  "language_info": {
   "codemirror_mode": {
    "name": "ipython",
    "version": 3
   },
   "file_extension": ".py",
   "mimetype": "text/x-python",
   "name": "python",
   "nbconvert_exporter": "python",
   "pygments_lexer": "ipython3",
   "version": "3.11.4"
  }
 },
 "nbformat": 4,
 "nbformat_minor": 2
}
