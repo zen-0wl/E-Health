{
 "cells": [
  {
   "cell_type": "code",
   "execution_count": 1,
   "metadata": {},
   "outputs": [
    {
     "name": "stdout",
     "output_type": "stream",
     "text": [
      "Disease\n",
      "Atherosclerosis                         152809\n",
      "Hypertension                            115644\n",
      "Cardiovascular Disease (CVD)             99122\n",
      "Chronic Fatigue Syndrome (CFS)           53545\n",
      "Respiratory Disease (COPD or Asthma)     28039\n",
      "Stress-related Disorders                   352\n",
      "Arrhythmias                                284\n",
      "Healthy                                     67\n",
      "Autonomic Dysfunction                       65\n",
      "Diabetes                                    48\n",
      "Anaemia                                     25\n",
      "Name: count, dtype: int64\n"
     ]
    }
   ],
   "source": [
    "import pickle\n",
    "import pandas as pd\n",
    "import numpy as np\n",
    "from smote_sample import X, y\n",
    "from sklearn.ensemble import RandomForestClassifier\n",
    "from sklearn.preprocessing import LabelEncoder\n",
    "from sklearn.model_selection import train_test_split\n",
    "from sklearn.metrics import classification_report, accuracy_score"
   ]
  },
  {
   "cell_type": "code",
   "execution_count": 2,
   "metadata": {},
   "outputs": [
    {
     "name": "stdout",
     "output_type": "stream",
     "text": [
      "Loaded Feature Shape: (1680899, 17)\n",
      "Loaded Target Shape: (1680899,)\n",
      "Loaded Distribution after SMOTE:\n",
      " Disease\n",
      "Chronic Fatigue Syndrome (CFS)          152809\n",
      "Atherosclerosis                         152809\n",
      "Hypertension                            152809\n",
      "Cardiovascular Disease (CVD)            152809\n",
      "Respiratory Disease (COPD or Asthma)    152809\n",
      "Autonomic Dysfunction                   152809\n",
      "Arrhythmias                             152809\n",
      "Anaemia                                 152809\n",
      "Stress-related Disorders                152809\n",
      "Diabetes                                152809\n",
      "Healthy                                 152809\n",
      "Name: count, dtype: int64\n"
     ]
    }
   ],
   "source": [
    "with open(\"balanced_data.pkl\", \"rb\") as f:\n",
    "    X_balanced, y_balanced = pickle.load(f)\n",
    "\n",
    "print(\"Loaded Feature Shape:\", X_balanced.shape)\n",
    "print(\"Loaded Target Shape:\", y_balanced.shape)\n",
    "print(\"Loaded Distribution after SMOTE:\\n\", y_balanced.value_counts())"
   ]
  },
  {
   "cell_type": "code",
   "execution_count": 3,
   "metadata": {},
   "outputs": [
    {
     "name": "stdout",
     "output_type": "stream",
     "text": [
      "Training sample sizes: [20, 40, 60, 80, 200, 400, 600, 800, 2000, 4000, 6000, 8000, 16000, 24000, 32000, 40000]\n",
      "Testing sample sizes: [5, 10, 15, 20, 50, 100, 150, 200, 500, 1000, 1500, 2000, 4000, 6000, 8000, 10000]\n"
     ]
    }
   ],
   "source": [
    "sample_sizes = [25, 50, 75, 100, 250, 500, 750, 1000, 2500, 5000, 7500, 10000, 20000, 30000, 40000, 50000]\n",
    "\n",
    "training_sample_sizes = [max(size - size // 5, 1) for size in sample_sizes]  \n",
    "testing_sample_sizes = [size - train_size for size, train_size in zip(sample_sizes, training_sample_sizes)]  \n",
    "\n",
    "print(\"Training sample sizes:\", training_sample_sizes)\n",
    "print(\"Testing sample sizes:\", testing_sample_sizes)"
   ]
  },
  {
   "cell_type": "code",
   "execution_count": 4,
   "metadata": {},
   "outputs": [
    {
     "name": "stderr",
     "output_type": "stream",
     "text": [
      "c:\\Users\\zen\\Documents\\les trucs du boulot\\TM R&D\\E-Health\\.venv\\Lib\\site-packages\\sklearn\\base.py:493: UserWarning: X does not have valid feature names, but RandomForestClassifier was fitted with feature names\n",
      "  warnings.warn(\n",
      "c:\\Users\\zen\\Documents\\les trucs du boulot\\TM R&D\\E-Health\\.venv\\Lib\\site-packages\\sklearn\\base.py:493: UserWarning: X does not have valid feature names, but RandomForestClassifier was fitted with feature names\n",
      "  warnings.warn(\n"
     ]
    },
    {
     "name": "stdout",
     "output_type": "stream",
     "text": [
      "\n",
      "Sample size 25 - Accuracy: 0.0000\n",
      "                                      precision    recall  f1-score   support\n",
      "\n",
      "                             Anaemia       0.00      0.00      0.00       0.0\n",
      "                         Arrhythmias       0.00      0.00      0.00       0.0\n",
      "                     Atherosclerosis       0.00      0.00      0.00       0.0\n",
      "               Autonomic Dysfunction       0.00      0.00      0.00      11.0\n",
      "        Cardiovascular Disease (CVD)       0.00      0.00      0.00       0.0\n",
      "      Chronic Fatigue Syndrome (CFS)       0.00      0.00      0.00      11.0\n",
      "                            Diabetes       0.00      0.00      0.00       0.0\n",
      "                             Healthy       0.00      0.00      0.00      11.0\n",
      "                        Hypertension       0.00      0.00      0.00      11.0\n",
      "Respiratory Disease (COPD or Asthma)       0.00      0.00      0.00      11.0\n",
      "            Stress-related Disorders       0.00      0.00      0.00       0.0\n",
      "\n",
      "                            accuracy                           0.00      55.0\n",
      "                           macro avg       0.00      0.00      0.00      55.0\n",
      "                        weighted avg       0.00      0.00      0.00      55.0\n",
      "\n",
      "\n",
      "Sample size 50 - Accuracy: 0.5000\n",
      "                                      precision    recall  f1-score   support\n",
      "\n",
      "                             Anaemia       0.00      0.00      0.00         0\n",
      "                         Arrhythmias       1.00      1.00      1.00        11\n",
      "                     Atherosclerosis       0.00      0.00      0.00         0\n",
      "               Autonomic Dysfunction       0.33      1.00      0.50        11\n",
      "        Cardiovascular Disease (CVD)       0.00      0.00      0.00         0\n",
      "      Chronic Fatigue Syndrome (CFS)       0.00      0.00      0.00        11\n",
      "                            Diabetes       1.00      1.00      1.00        11\n",
      "                             Healthy       0.00      0.00      0.00        22\n",
      "                        Hypertension       0.33      1.00      0.50        11\n",
      "Respiratory Disease (COPD or Asthma)       0.00      0.00      0.00        22\n",
      "            Stress-related Disorders       1.00      1.00      1.00        11\n",
      "\n",
      "                            accuracy                           0.50       110\n",
      "                           macro avg       0.33      0.45      0.36       110\n",
      "                        weighted avg       0.37      0.50      0.40       110\n",
      "\n",
      "New best model found for sample size 50 with accuracy 0.5000\n"
     ]
    },
    {
     "name": "stderr",
     "output_type": "stream",
     "text": [
      "c:\\Users\\zen\\Documents\\les trucs du boulot\\TM R&D\\E-Health\\.venv\\Lib\\site-packages\\sklearn\\base.py:493: UserWarning: X does not have valid feature names, but RandomForestClassifier was fitted with feature names\n",
      "  warnings.warn(\n",
      "c:\\Users\\zen\\Documents\\les trucs du boulot\\TM R&D\\E-Health\\.venv\\Lib\\site-packages\\sklearn\\base.py:493: UserWarning: X does not have valid feature names, but RandomForestClassifier was fitted with feature names\n",
      "  warnings.warn(\n"
     ]
    },
    {
     "name": "stdout",
     "output_type": "stream",
     "text": [
      "\n",
      "Sample size 75 - Accuracy: 0.5333\n",
      "                                      precision    recall  f1-score   support\n",
      "\n",
      "                             Anaemia       0.00      0.00      0.00        11\n",
      "                         Arrhythmias       1.00      1.00      1.00        11\n",
      "                     Atherosclerosis       0.00      0.00      0.00         0\n",
      "               Autonomic Dysfunction       0.20      0.50      0.29        22\n",
      "        Cardiovascular Disease (CVD)       0.00      0.00      0.00         0\n",
      "      Chronic Fatigue Syndrome (CFS)       0.00      0.00      0.00        11\n",
      "                            Diabetes       1.00      1.00      1.00        11\n",
      "                             Healthy       0.00      0.00      0.00        33\n",
      "                        Hypertension       1.00      1.00      1.00        11\n",
      "Respiratory Disease (COPD or Asthma)       1.00      0.67      0.80        33\n",
      "            Stress-related Disorders       0.50      1.00      0.67        22\n",
      "\n",
      "                            accuracy                           0.53       165\n",
      "                           macro avg       0.43      0.47      0.43       165\n",
      "                        weighted avg       0.49      0.53      0.49       165\n",
      "\n",
      "New best model found for sample size 75 with accuracy 0.5333\n",
      "\n",
      "Sample size 100 - Accuracy: 0.5000\n",
      "                                      precision    recall  f1-score   support\n",
      "\n",
      "                             Anaemia       1.00      0.33      0.50        33\n",
      "                         Arrhythmias       1.00      1.00      1.00        11\n",
      "                     Atherosclerosis       0.00      0.00      0.00         0\n",
      "               Autonomic Dysfunction       0.20      0.50      0.29        22\n",
      "        Cardiovascular Disease (CVD)       0.00      0.00      0.00         0\n",
      "      Chronic Fatigue Syndrome (CFS)       0.50      0.50      0.50        22\n",
      "                            Diabetes       1.00      1.00      1.00        22\n",
      "                             Healthy       0.00      0.00      0.00        33\n",
      "                        Hypertension       0.50      1.00      0.67        11\n",
      "Respiratory Disease (COPD or Asthma)       1.00      0.25      0.40        44\n",
      "            Stress-related Disorders       0.40      1.00      0.57        22\n",
      "\n",
      "                            accuracy                           0.50       220\n",
      "                           macro avg       0.51      0.51      0.45       220\n",
      "                        weighted avg       0.64      0.50      0.47       220\n",
      "\n"
     ]
    },
    {
     "name": "stderr",
     "output_type": "stream",
     "text": [
      "c:\\Users\\zen\\Documents\\les trucs du boulot\\TM R&D\\E-Health\\.venv\\Lib\\site-packages\\sklearn\\base.py:493: UserWarning: X does not have valid feature names, but RandomForestClassifier was fitted with feature names\n",
      "  warnings.warn(\n",
      "c:\\Users\\zen\\Documents\\les trucs du boulot\\TM R&D\\E-Health\\.venv\\Lib\\site-packages\\sklearn\\base.py:493: UserWarning: X does not have valid feature names, but RandomForestClassifier was fitted with feature names\n",
      "  warnings.warn(\n"
     ]
    },
    {
     "name": "stdout",
     "output_type": "stream",
     "text": [
      "\n",
      "Sample size 250 - Accuracy: 0.9400\n",
      "                                      precision    recall  f1-score   support\n",
      "\n",
      "                             Anaemia       1.00      1.00      1.00        33\n",
      "                         Arrhythmias       0.75      1.00      0.86        33\n",
      "                     Atherosclerosis       0.00      0.00      0.00         0\n",
      "               Autonomic Dysfunction       1.00      1.00      1.00        88\n",
      "        Cardiovascular Disease (CVD)       1.00      1.00      1.00        44\n",
      "      Chronic Fatigue Syndrome (CFS)       1.00      0.83      0.91        66\n",
      "                            Diabetes       1.00      1.00      1.00        55\n",
      "                             Healthy       1.00      1.00      1.00        55\n",
      "                        Hypertension       1.00      0.83      0.91        66\n",
      "Respiratory Disease (COPD or Asthma)       1.00      0.75      0.86        44\n",
      "            Stress-related Disorders       0.75      1.00      0.86        66\n",
      "\n",
      "                            accuracy                           0.94       550\n",
      "                           macro avg       0.86      0.86      0.85       550\n",
      "                        weighted avg       0.95      0.94      0.94       550\n",
      "\n",
      "New best model found for sample size 250 with accuracy 0.9400\n",
      "\n",
      "Sample size 500 - Accuracy: 0.9300\n",
      "                                      precision    recall  f1-score   support\n",
      "\n",
      "                             Anaemia       1.00      1.00      1.00       110\n",
      "                         Arrhythmias       0.86      1.00      0.92        66\n",
      "                     Atherosclerosis       1.00      0.33      0.50        33\n",
      "               Autonomic Dysfunction       0.93      1.00      0.96       143\n",
      "        Cardiovascular Disease (CVD)       1.00      0.86      0.92        77\n",
      "      Chronic Fatigue Syndrome (CFS)       1.00      0.91      0.95       121\n",
      "                            Diabetes       1.00      1.00      1.00        88\n",
      "                             Healthy       1.00      1.00      1.00        66\n",
      "                        Hypertension       0.87      0.93      0.90       154\n",
      "Respiratory Disease (COPD or Asthma)       0.90      0.82      0.86       121\n",
      "            Stress-related Disorders       0.85      1.00      0.92       121\n",
      "\n",
      "                            accuracy                           0.93      1100\n",
      "                           macro avg       0.95      0.90      0.90      1100\n",
      "                        weighted avg       0.94      0.93      0.93      1100\n",
      "\n"
     ]
    },
    {
     "name": "stderr",
     "output_type": "stream",
     "text": [
      "c:\\Users\\zen\\Documents\\les trucs du boulot\\TM R&D\\E-Health\\.venv\\Lib\\site-packages\\sklearn\\base.py:493: UserWarning: X does not have valid feature names, but RandomForestClassifier was fitted with feature names\n",
      "  warnings.warn(\n",
      "c:\\Users\\zen\\Documents\\les trucs du boulot\\TM R&D\\E-Health\\.venv\\Lib\\site-packages\\sklearn\\base.py:493: UserWarning: X does not have valid feature names, but RandomForestClassifier was fitted with feature names\n",
      "  warnings.warn(\n"
     ]
    },
    {
     "name": "stdout",
     "output_type": "stream",
     "text": [
      "\n",
      "Sample size 750 - Accuracy: 0.9533\n",
      "                                      precision    recall  f1-score   support\n",
      "\n",
      "                             Anaemia       1.00      1.00      1.00       187\n",
      "                         Arrhythmias       1.00      1.00      1.00        99\n",
      "                     Atherosclerosis       0.90      0.82      0.86       121\n",
      "               Autonomic Dysfunction       0.95      1.00      0.97       209\n",
      "        Cardiovascular Disease (CVD)       1.00      0.92      0.96       132\n",
      "      Chronic Fatigue Syndrome (CFS)       1.00      0.92      0.96       132\n",
      "                            Diabetes       1.00      1.00      1.00       110\n",
      "                             Healthy       1.00      1.00      1.00       110\n",
      "                        Hypertension       0.94      0.89      0.91       198\n",
      "Respiratory Disease (COPD or Asthma)       0.81      0.94      0.87       198\n",
      "            Stress-related Disorders       1.00      1.00      1.00       154\n",
      "\n",
      "                            accuracy                           0.95      1650\n",
      "                           macro avg       0.96      0.95      0.96      1650\n",
      "                        weighted avg       0.96      0.95      0.95      1650\n",
      "\n",
      "New best model found for sample size 750 with accuracy 0.9533\n",
      "\n",
      "Sample size 1000 - Accuracy: 0.9750\n",
      "                                      precision    recall  f1-score   support\n",
      "\n",
      "                             Anaemia       1.00      1.00      1.00       231\n",
      "                         Arrhythmias       0.93      1.00      0.97       154\n",
      "                     Atherosclerosis       0.93      0.93      0.93       165\n",
      "               Autonomic Dysfunction       1.00      1.00      1.00       264\n",
      "        Cardiovascular Disease (CVD)       1.00      0.88      0.94       187\n",
      "      Chronic Fatigue Syndrome (CFS)       1.00      0.90      0.95       220\n",
      "                            Diabetes       1.00      1.00      1.00       132\n",
      "                             Healthy       1.00      1.00      1.00       154\n",
      "                        Hypertension       0.96      1.00      0.98       297\n",
      "Respiratory Disease (COPD or Asthma)       0.90      1.00      0.95       198\n",
      "            Stress-related Disorders       1.00      1.00      1.00       198\n",
      "\n",
      "                            accuracy                           0.97      2200\n",
      "                           macro avg       0.98      0.97      0.97      2200\n",
      "                        weighted avg       0.98      0.97      0.97      2200\n",
      "\n",
      "New best model found for sample size 1000 with accuracy 0.9750\n"
     ]
    },
    {
     "name": "stderr",
     "output_type": "stream",
     "text": [
      "c:\\Users\\zen\\Documents\\les trucs du boulot\\TM R&D\\E-Health\\.venv\\Lib\\site-packages\\sklearn\\base.py:493: UserWarning: X does not have valid feature names, but RandomForestClassifier was fitted with feature names\n",
      "  warnings.warn(\n"
     ]
    },
    {
     "name": "stdout",
     "output_type": "stream",
     "text": [
      "\n",
      "Sample size 2500 - Accuracy: 0.9900\n",
      "                                      precision    recall  f1-score   support\n",
      "\n",
      "                             Anaemia       1.00      1.00      1.00       517\n",
      "                         Arrhythmias       1.00      1.00      1.00       462\n",
      "                     Atherosclerosis       0.98      0.98      0.98       605\n",
      "               Autonomic Dysfunction       1.00      1.00      1.00       495\n",
      "        Cardiovascular Disease (CVD)       1.00      0.98      0.99       517\n",
      "      Chronic Fatigue Syndrome (CFS)       1.00      0.94      0.97       539\n",
      "                            Diabetes       1.00      1.00      1.00       396\n",
      "                             Healthy       1.00      1.00      1.00       484\n",
      "                        Hypertension       0.98      1.00      0.99       583\n",
      "Respiratory Disease (COPD or Asthma)       0.93      1.00      0.97       462\n",
      "            Stress-related Disorders       1.00      1.00      1.00       440\n",
      "\n",
      "                            accuracy                           0.99      5500\n",
      "                           macro avg       0.99      0.99      0.99      5500\n",
      "                        weighted avg       0.99      0.99      0.99      5500\n",
      "\n",
      "New best model found for sample size 2500 with accuracy 0.9900\n"
     ]
    },
    {
     "name": "stderr",
     "output_type": "stream",
     "text": [
      "c:\\Users\\zen\\Documents\\les trucs du boulot\\TM R&D\\E-Health\\.venv\\Lib\\site-packages\\sklearn\\base.py:493: UserWarning: X does not have valid feature names, but RandomForestClassifier was fitted with feature names\n",
      "  warnings.warn(\n"
     ]
    },
    {
     "name": "stdout",
     "output_type": "stream",
     "text": [
      "\n",
      "Sample size 5000 - Accuracy: 0.9960\n",
      "                                      precision    recall  f1-score   support\n",
      "\n",
      "                             Anaemia       1.00      1.00      1.00       968\n",
      "                         Arrhythmias       0.99      1.00      0.99       891\n",
      "                     Atherosclerosis       0.99      0.99      0.99      1089\n",
      "               Autonomic Dysfunction       1.00      1.00      1.00      1034\n",
      "        Cardiovascular Disease (CVD)       1.00      0.99      1.00      1122\n",
      "      Chronic Fatigue Syndrome (CFS)       1.00      0.99      0.99      1089\n",
      "                            Diabetes       1.00      1.00      1.00       792\n",
      "                             Healthy       1.00      1.00      1.00      1012\n",
      "                        Hypertension       0.99      1.00      1.00      1133\n",
      "Respiratory Disease (COPD or Asthma)       0.99      0.99      0.99       869\n",
      "            Stress-related Disorders       1.00      1.00      1.00      1001\n",
      "\n",
      "                            accuracy                           1.00     11000\n",
      "                           macro avg       1.00      1.00      1.00     11000\n",
      "                        weighted avg       1.00      1.00      1.00     11000\n",
      "\n",
      "New best model found for sample size 5000 with accuracy 0.9960\n"
     ]
    },
    {
     "name": "stderr",
     "output_type": "stream",
     "text": [
      "c:\\Users\\zen\\Documents\\les trucs du boulot\\TM R&D\\E-Health\\.venv\\Lib\\site-packages\\sklearn\\base.py:493: UserWarning: X does not have valid feature names, but RandomForestClassifier was fitted with feature names\n",
      "  warnings.warn(\n"
     ]
    },
    {
     "name": "stdout",
     "output_type": "stream",
     "text": [
      "\n",
      "Sample size 7500 - Accuracy: 0.9973\n",
      "                                      precision    recall  f1-score   support\n",
      "\n",
      "                             Anaemia       1.00      1.00      1.00      1463\n",
      "                         Arrhythmias       1.00      1.00      1.00      1375\n",
      "                     Atherosclerosis       0.99      0.99      0.99      1507\n",
      "               Autonomic Dysfunction       1.00      1.00      1.00      1507\n",
      "        Cardiovascular Disease (CVD)       1.00      0.99      1.00      1573\n",
      "      Chronic Fatigue Syndrome (CFS)       1.00      0.99      1.00      1650\n",
      "                            Diabetes       1.00      1.00      1.00      1254\n",
      "                             Healthy       1.00      1.00      1.00      1628\n",
      "                        Hypertension       0.99      0.99      0.99      1639\n",
      "Respiratory Disease (COPD or Asthma)       0.99      1.00      1.00      1408\n",
      "            Stress-related Disorders       0.99      1.00      1.00      1496\n",
      "\n",
      "                            accuracy                           1.00     16500\n",
      "                           macro avg       1.00      1.00      1.00     16500\n",
      "                        weighted avg       1.00      1.00      1.00     16500\n",
      "\n",
      "New best model found for sample size 7500 with accuracy 0.9973\n"
     ]
    },
    {
     "name": "stderr",
     "output_type": "stream",
     "text": [
      "c:\\Users\\zen\\Documents\\les trucs du boulot\\TM R&D\\E-Health\\.venv\\Lib\\site-packages\\sklearn\\base.py:493: UserWarning: X does not have valid feature names, but RandomForestClassifier was fitted with feature names\n",
      "  warnings.warn(\n"
     ]
    },
    {
     "name": "stdout",
     "output_type": "stream",
     "text": [
      "\n",
      "Sample size 10000 - Accuracy: 0.9975\n",
      "                                      precision    recall  f1-score   support\n",
      "\n",
      "                             Anaemia       1.00      1.00      1.00      1914\n",
      "                         Arrhythmias       1.00      1.00      1.00      1980\n",
      "                     Atherosclerosis       0.99      1.00      0.99      1936\n",
      "               Autonomic Dysfunction       1.00      1.00      1.00      2057\n",
      "        Cardiovascular Disease (CVD)       1.00      0.99      0.99      2068\n",
      "      Chronic Fatigue Syndrome (CFS)       1.00      1.00      1.00      2211\n",
      "                            Diabetes       1.00      1.00      1.00      1606\n",
      "                             Healthy       1.00      1.00      1.00      2101\n",
      "                        Hypertension       0.99      0.99      0.99      2145\n",
      "Respiratory Disease (COPD or Asthma)       0.99      0.99      0.99      1892\n",
      "            Stress-related Disorders       0.99      1.00      1.00      2090\n",
      "\n",
      "                            accuracy                           1.00     22000\n",
      "                           macro avg       1.00      1.00      1.00     22000\n",
      "                        weighted avg       1.00      1.00      1.00     22000\n",
      "\n",
      "New best model found for sample size 10000 with accuracy 0.9975\n"
     ]
    },
    {
     "name": "stderr",
     "output_type": "stream",
     "text": [
      "c:\\Users\\zen\\Documents\\les trucs du boulot\\TM R&D\\E-Health\\.venv\\Lib\\site-packages\\sklearn\\base.py:493: UserWarning: X does not have valid feature names, but RandomForestClassifier was fitted with feature names\n",
      "  warnings.warn(\n"
     ]
    },
    {
     "name": "stdout",
     "output_type": "stream",
     "text": [
      "\n",
      "Sample size 20000 - Accuracy: 0.9990\n",
      "                                      precision    recall  f1-score   support\n",
      "\n",
      "                             Anaemia       1.00      1.00      1.00      3762\n",
      "                         Arrhythmias       1.00      1.00      1.00      4059\n",
      "                     Atherosclerosis       1.00      1.00      1.00      3883\n",
      "               Autonomic Dysfunction       1.00      1.00      1.00      3806\n",
      "        Cardiovascular Disease (CVD)       1.00      1.00      1.00      4290\n",
      "      Chronic Fatigue Syndrome (CFS)       1.00      0.99      1.00      4169\n",
      "                            Diabetes       1.00      1.00      1.00      3641\n",
      "                             Healthy       1.00      1.00      1.00      4345\n",
      "                        Hypertension       1.00      1.00      1.00      4268\n",
      "Respiratory Disease (COPD or Asthma)       1.00      1.00      1.00      3773\n",
      "            Stress-related Disorders       1.00      1.00      1.00      4004\n",
      "\n",
      "                            accuracy                           1.00     44000\n",
      "                           macro avg       1.00      1.00      1.00     44000\n",
      "                        weighted avg       1.00      1.00      1.00     44000\n",
      "\n",
      "New best model found for sample size 20000 with accuracy 0.9990\n"
     ]
    },
    {
     "name": "stderr",
     "output_type": "stream",
     "text": [
      "c:\\Users\\zen\\Documents\\les trucs du boulot\\TM R&D\\E-Health\\.venv\\Lib\\site-packages\\sklearn\\base.py:493: UserWarning: X does not have valid feature names, but RandomForestClassifier was fitted with feature names\n",
      "  warnings.warn(\n"
     ]
    },
    {
     "name": "stdout",
     "output_type": "stream",
     "text": [
      "\n",
      "Sample size 30000 - Accuracy: 0.9990\n",
      "                                      precision    recall  f1-score   support\n",
      "\n",
      "                             Anaemia       1.00      1.00      1.00      5731\n",
      "                         Arrhythmias       1.00      1.00      1.00      6226\n",
      "                     Atherosclerosis       1.00      1.00      1.00      5753\n",
      "               Autonomic Dysfunction       1.00      1.00      1.00      5962\n",
      "        Cardiovascular Disease (CVD)       1.00      1.00      1.00      6204\n",
      "      Chronic Fatigue Syndrome (CFS)       1.00      0.99      1.00      6039\n",
      "                            Diabetes       1.00      1.00      1.00      5698\n",
      "                             Healthy       1.00      1.00      1.00      6358\n",
      "                        Hypertension       1.00      1.00      1.00      6171\n",
      "Respiratory Disease (COPD or Asthma)       1.00      1.00      1.00      5797\n",
      "            Stress-related Disorders       1.00      1.00      1.00      6061\n",
      "\n",
      "                            accuracy                           1.00     66000\n",
      "                           macro avg       1.00      1.00      1.00     66000\n",
      "                        weighted avg       1.00      1.00      1.00     66000\n",
      "\n"
     ]
    },
    {
     "name": "stderr",
     "output_type": "stream",
     "text": [
      "c:\\Users\\zen\\Documents\\les trucs du boulot\\TM R&D\\E-Health\\.venv\\Lib\\site-packages\\sklearn\\base.py:493: UserWarning: X does not have valid feature names, but RandomForestClassifier was fitted with feature names\n",
      "  warnings.warn(\n"
     ]
    },
    {
     "name": "stdout",
     "output_type": "stream",
     "text": [
      "\n",
      "Sample size 40000 - Accuracy: 0.9986\n",
      "                                      precision    recall  f1-score   support\n",
      "\n",
      "                             Anaemia       1.00      1.00      1.00      8019\n",
      "                         Arrhythmias       1.00      1.00      1.00      8217\n",
      "                     Atherosclerosis       1.00      1.00      1.00      7986\n",
      "               Autonomic Dysfunction       1.00      1.00      1.00      8052\n",
      "        Cardiovascular Disease (CVD)       1.00      1.00      1.00      8283\n",
      "      Chronic Fatigue Syndrome (CFS)       1.00      0.99      1.00      8052\n",
      "                            Diabetes       1.00      1.00      1.00      7711\n",
      "                             Healthy       1.00      1.00      1.00      8162\n",
      "                        Hypertension       1.00      1.00      1.00      8063\n",
      "Respiratory Disease (COPD or Asthma)       1.00      1.00      1.00      7568\n",
      "            Stress-related Disorders       1.00      1.00      1.00      7887\n",
      "\n",
      "                            accuracy                           1.00     88000\n",
      "                           macro avg       1.00      1.00      1.00     88000\n",
      "                        weighted avg       1.00      1.00      1.00     88000\n",
      "\n"
     ]
    },
    {
     "name": "stderr",
     "output_type": "stream",
     "text": [
      "c:\\Users\\zen\\Documents\\les trucs du boulot\\TM R&D\\E-Health\\.venv\\Lib\\site-packages\\sklearn\\base.py:493: UserWarning: X does not have valid feature names, but RandomForestClassifier was fitted with feature names\n",
      "  warnings.warn(\n"
     ]
    },
    {
     "name": "stdout",
     "output_type": "stream",
     "text": [
      "\n",
      "Sample size 50000 - Accuracy: 0.9989\n",
      "                                      precision    recall  f1-score   support\n",
      "\n",
      "                             Anaemia       1.00      1.00      1.00      9856\n",
      "                         Arrhythmias       1.00      1.00      1.00     10296\n",
      "                     Atherosclerosis       1.00      1.00      1.00     10109\n",
      "               Autonomic Dysfunction       1.00      1.00      1.00     10329\n",
      "        Cardiovascular Disease (CVD)       1.00      1.00      1.00     10153\n",
      "      Chronic Fatigue Syndrome (CFS)       1.00      0.99      0.99      9966\n",
      "                            Diabetes       1.00      1.00      1.00      9625\n",
      "                             Healthy       1.00      1.00      1.00     10197\n",
      "                        Hypertension       1.00      1.00      1.00      9889\n",
      "Respiratory Disease (COPD or Asthma)       1.00      1.00      1.00      9537\n",
      "            Stress-related Disorders       1.00      1.00      1.00     10043\n",
      "\n",
      "                            accuracy                           1.00    110000\n",
      "                           macro avg       1.00      1.00      1.00    110000\n",
      "                        weighted avg       1.00      1.00      1.00    110000\n",
      "\n",
      "\n",
      "Best Model: Random Forest with sample size 20000\n",
      "Best Accuracy: 0.9990\n"
     ]
    }
   ],
   "source": [
    "label_encoder = LabelEncoder()\n",
    "y_balanced_encoded = label_encoder.fit_transform(y_balanced)\n",
    "class_labels = label_encoder.classes_[np.unique(y_balanced_encoded)]\n",
    "\n",
    "X_train, X_test, y_train, y_test = train_test_split(\n",
    "    X_balanced, y_balanced_encoded, test_size=0.2, random_state=42, stratify=y_balanced_encoded\n",
    ")\n",
    "\n",
    "# Helper functions remain the same (evaluate_model, expand_test_set, flatten_classification_report)\n",
    "\n",
    "def evaluate_model(model, X_test, y_test, class_labels):\n",
    "    # Predict the labels\n",
    "    predictions = model.predict(X_test)\n",
    "    accuracy = accuracy_score(y_test, predictions)\n",
    "\n",
    "    # Ensure all classes are present in the classification report\n",
    "    full_class_indices = np.arange(len(class_labels))\n",
    "    report = classification_report(\n",
    "        y_test,\n",
    "        predictions,\n",
    "        labels=full_class_indices,  # Include all classes\n",
    "        target_names=class_labels,  # Use all class labels\n",
    "        zero_division=0,  # Avoid errors for missing classes\n",
    "        output_dict=True\n",
    "    )\n",
    "    return accuracy, report, predictions\n",
    "\n",
    "def expand_test_set(X_test, y_test, repeat_factor):\n",
    "    X_test_expanded = np.repeat(X_test, repeats=repeat_factor, axis=0)\n",
    "    y_test_expanded = np.repeat(y_test, repeats=repeat_factor)\n",
    "    return X_test_expanded, y_test_expanded\n",
    "\n",
    "def flatten_classification_report(report, sample_size, train_size, test_size, accuracy):\n",
    "    flattened_report = {\n",
    "        \"sample_size\": sample_size,\n",
    "        \"train_size\": train_size,\n",
    "        \"test_size\": test_size,\n",
    "        \"accuracy\": accuracy,\n",
    "    }\n",
    "    for label, metrics in report.items():\n",
    "        if isinstance(metrics, dict):\n",
    "            for metric_name, value in metrics.items():\n",
    "                flattened_report[f\"{label}_{metric_name}\"] = value\n",
    "    return flattened_report\n",
    "\n",
    "# Main training loop\n",
    "results = []\n",
    "best_accuracy = 0\n",
    "best_model = None\n",
    "best_sample_size = 0\n",
    "\n",
    "for sample_size, train_size, test_size in zip(\n",
    "    sample_sizes, training_sample_sizes, testing_sample_sizes\n",
    "):\n",
    "    # Subset training and testing data\n",
    "    X_train_subset, y_train_subset = X_train[:train_size], y_train[:train_size]\n",
    "    X_test_subset, y_test_subset = X_test[:test_size], y_test[:test_size]\n",
    "\n",
    "    # Expand test set\n",
    "    repeat_factor = 11\n",
    "    X_test_expanded, y_test_expanded = expand_test_set(X_test_subset, y_test_subset, repeat_factor)\n",
    "\n",
    "    # Random Forest Model\n",
    "    random_forest = RandomForestClassifier(\n",
    "        class_weight='balanced', random_state=42, n_jobs=-1\n",
    "    )\n",
    "    random_forest.fit(X_train_subset, y_train_subset)\n",
    "\n",
    "    # Evaluate the model\n",
    "    accuracy, report, predictions = evaluate_model(\n",
    "        random_forest, X_test_expanded, y_test_expanded, class_labels\n",
    "    )\n",
    "\n",
    "    # Dynamically adjust class labels for the report\n",
    "    unique_classes = np.unique(y_test_expanded)\n",
    "    dynamic_class_labels = label_encoder.inverse_transform(unique_classes)\n",
    "\n",
    "    # Print iteration results\n",
    "    print(f\"\\nSample size {sample_size} - Accuracy: {accuracy:.4f}\")\n",
    "    print(classification_report(\n",
    "        y_test_expanded,\n",
    "        predictions,\n",
    "        labels=np.arange(len(class_labels)),  # Include all class indices\n",
    "        target_names=class_labels,  # Use the full set of class labels\n",
    "        zero_division=0\n",
    "    ))\n",
    "\n",
    "    # Flatten and store results\n",
    "    flat_report = flatten_classification_report(\n",
    "        report, sample_size, train_size, test_size, accuracy\n",
    "    )\n",
    "    results.append(flat_report)\n",
    "\n",
    "    # Check for best model\n",
    "    if accuracy > best_accuracy:\n",
    "        best_accuracy = accuracy\n",
    "        best_model = random_forest\n",
    "        best_sample_size = sample_size\n",
    "        print(f\"New best model found for sample size {sample_size} with accuracy {accuracy:.4f}\")\n",
    "\n",
    "# Print best model summary\n",
    "print(f\"\\nBest Model: Random Forest with sample size {best_sample_size}\")\n",
    "print(f\"Best Accuracy: {best_accuracy:.4f}\")"
   ]
  },
  {
   "cell_type": "code",
   "execution_count": 5,
   "metadata": {},
   "outputs": [
    {
     "name": "stdout",
     "output_type": "stream",
     "text": [
      "Best model saved to random_forest_model.pkl\n"
     ]
    }
   ],
   "source": [
    "# save model as pickle\n",
    "model_file_name = \"random_forest_model.pkl\"\n",
    "with open(model_file_name, \"wb\") as f:\n",
    "    pickle.dump(best_model, f)\n",
    "\n",
    "print(f\"Best model saved to {model_file_name}\")"
   ]
  }
 ],
 "metadata": {
  "kernelspec": {
   "display_name": ".venv",
   "language": "python",
   "name": "python3"
  },
  "language_info": {
   "codemirror_mode": {
    "name": "ipython",
    "version": 3
   },
   "file_extension": ".py",
   "mimetype": "text/x-python",
   "name": "python",
   "nbconvert_exporter": "python",
   "pygments_lexer": "ipython3",
   "version": "3.11.4"
  }
 },
 "nbformat": 4,
 "nbformat_minor": 2
}
